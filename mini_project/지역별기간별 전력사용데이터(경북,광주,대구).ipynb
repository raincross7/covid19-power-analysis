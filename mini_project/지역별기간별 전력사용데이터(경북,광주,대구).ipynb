{
 "cells": [
  {
   "cell_type": "code",
   "execution_count": 1,
   "id": "9e29bf89-d669-4cf3-afa4-6b805f1da79a",
   "metadata": {
    "tags": []
   },
   "outputs": [],
   "source": [
    "import numpy as np\n",
    "import pandas as pd\n",
    "import matplotlib.pyplot as plt\n",
    "import warnings\n",
    "\n",
    "warnings.filterwarnings('ignore')\n",
    "plt.rcParams['font.family'] = 'NanumGothicCoding'\n",
    "plt.rcParams['font.size'] = 12\n",
    "plt.rcParams['figure.dpi'] = 100"
   ]
  },
  {
   "cell_type": "code",
   "execution_count": 2,
   "id": "18a35d89-e582-4d8c-9d1e-4a5fd929a9db",
   "metadata": {
    "tags": []
   },
   "outputs": [],
   "source": [
    "# 2015~2021 전력 데이터\n",
    "# https://epsis.kpx.or.kr/epsisnew/selectEksaAscAsaChart.do?menuId=060405\n",
    "# 2022 전력 데이터\n",
    "# https://home.kepco.co.kr/kepco/KO/ntcob/ntcobView.do?pageIndex=1&boardSeq=21062112&boardCd=BRD_000099&menuCd=FN05030103&parnScrpSeq=0&categoryCdGroup=&regDateGroup2=\n",
    "df15 = pd.read_csv('2015.csv', encoding='CP949')\n",
    "df16 = pd.read_csv('2016.csv', encoding='CP949')\n",
    "df17 = pd.read_csv('2017.csv', encoding='CP949')\n",
    "df18 = pd.read_csv('2018.csv', encoding='CP949')\n",
    "df19 = pd.read_csv('2019.csv', encoding='CP949')\n",
    "df20 = pd.read_csv('2020.csv', encoding='CP949')\n",
    "df21 = pd.read_csv('2021.csv', encoding='CP949')\n",
    "df22 = pd.read_csv('2022.csv')\n",
    "df22 = df22.drop(0)"
   ]
  },
  {
   "cell_type": "code",
   "execution_count": 3,
   "id": "5f1bda63-2fa6-416e-aa12-9a8a287f5582",
   "metadata": {
    "tags": []
   },
   "outputs": [],
   "source": [
    "# 데이터프레임 초기화\n",
    "gbdf = pd.DataFrame({'연도': [], '주거용': [], '업무용': [], '산업용': []})\n",
    "gjdf = pd.DataFrame({'연도': [], '주거용': [], '업무용': [], '산업용': []})\n",
    "dgdf = pd.DataFrame({'연도': [], '주거용': [], '업무용': [], '산업용': []})\n",
    "\n",
    "# 경북 데이터 입력\n",
    "new_data = {'연도': 2015, '주거용': df15['주거용'][6], '업무용': df15['Unnamed: 4'][6], '산업용': df15['Unnamed: 26'][6]}\n",
    "gbdf = gbdf.append(new_data, ignore_index=True)\n",
    "new_data = {'연도': 2016, '주거용': df16['주거용'][6], '업무용': df16['Unnamed: 4'][6], '산업용': df16['Unnamed: 26'][6]}\n",
    "gbdf = gbdf.append(new_data, ignore_index=True)\n",
    "new_data = {'연도': 2017, '주거용': df17['주거용'][6], '업무용': df17['Unnamed: 4'][6], '산업용': df17['Unnamed: 26'][6]}\n",
    "gbdf = gbdf.append(new_data, ignore_index=True)\n",
    "new_data = {'연도': 2018, '주거용': df18['주거용'][6], '업무용': df18['Unnamed: 4'][6], '산업용': df18['Unnamed: 26'][6]}\n",
    "gbdf = gbdf.append(new_data, ignore_index=True)\n",
    "new_data = {'연도': 2019, '주거용': df19['주거용'][6], '업무용': df19['Unnamed: 4'][6], '산업용': df19['Unnamed: 26'][6]}\n",
    "gbdf = gbdf.append(new_data, ignore_index=True)\n",
    "new_data = {'연도': 2020, '주거용': df20['주거용'][6], '업무용': df20['Unnamed: 4'][6], '산업용': df20['Unnamed: 33'][6]}\n",
    "gbdf = gbdf.append(new_data, ignore_index=True)\n",
    "new_data = {'연도': 2021, '주거용': df21['주거용'][6], '업무용': df21['Unnamed: 4'][6], '산업용': df21['Unnamed: 33'][6]}\n",
    "gbdf = gbdf.append(new_data, ignore_index=True)\n",
    "new_data = {'연도': 2022, '주거용': df22['Unnamed: 17'][2], '업무용': df22['Unnamed: 17'].iloc[3:5].astype(float).sum(),\n",
    "            '산업용': df22['Unnamed: 17'].iloc[4:7].astype(float).sum()}\n",
    "gbdf = gbdf.append(new_data, ignore_index=True)\n",
    "gbdf['연도'] = gbdf['연도'].astype(int)\n",
    "gbdf['주거용'] = gbdf['주거용'].astype(float)\n",
    "gbdf['업무용'] = gbdf['업무용'].astype(float)\n",
    "gbdf['산업용'] = gbdf['산업용'].astype(float)\n",
    "\n",
    "# 광주 데이터 입력\n",
    "new_data = {'연도': 2015, '주거용': df15['주거용'][7], '업무용': df15['Unnamed: 4'][7], '산업용': df15['Unnamed: 26'][7]}\n",
    "gjdf = gjdf.append(new_data, ignore_index=True)\n",
    "new_data = {'연도': 2016, '주거용': df16['주거용'][7], '업무용': df16['Unnamed: 4'][7], '산업용': df16['Unnamed: 26'][7]}\n",
    "gjdf = gjdf.append(new_data, ignore_index=True)\n",
    "new_data = {'연도': 2017, '주거용': df17['주거용'][7], '업무용': df17['Unnamed: 4'][7], '산업용': df17['Unnamed: 26'][7]}\n",
    "gjdf = gjdf.append(new_data, ignore_index=True)\n",
    "new_data = {'연도': 2018, '주거용': df18['주거용'][7], '업무용': df18['Unnamed: 4'][7], '산업용': df18['Unnamed: 26'][7]}\n",
    "gjdf = gjdf.append(new_data, ignore_index=True)\n",
    "new_data = {'연도': 2019, '주거용': df19['주거용'][7], '업무용': df19['Unnamed: 4'][7], '산업용': df19['Unnamed: 26'][7]}\n",
    "gjdf = gjdf.append(new_data, ignore_index=True)\n",
    "new_data = {'연도': 2020, '주거용': df20['주거용'][7], '업무용': df20['Unnamed: 4'][7], '산업용': df20['Unnamed: 33'][7]}\n",
    "gjdf = gjdf.append(new_data, ignore_index=True)\n",
    "new_data = {'연도': 2021, '주거용': df21['주거용'][7], '업무용': df21['Unnamed: 4'][7], '산업용': df21['Unnamed: 33'][7]}\n",
    "gjdf = gjdf.append(new_data, ignore_index=True)\n",
    "new_data = {'연도': 2022, '주거용': df22['Unnamed: 5'][2], '업무용': df22['Unnamed: 5'].iloc[3:5].astype(float).sum(),\n",
    "            '산업용': df22['Unnamed: 5'].iloc[4:7].astype(float).sum()}\n",
    "gjdf = gjdf.append(new_data, ignore_index=True)\n",
    "gjdf['연도'] = gjdf['연도'].astype(int)\n",
    "gjdf['주거용'] = gjdf['주거용'].astype(float)\n",
    "gjdf['업무용'] = gjdf['업무용'].astype(float)\n",
    "gjdf['산업용'] = gjdf['산업용'].astype(float)\n",
    "\n",
    "#대구 데이터 입력\n",
    "new_data = {'연도': 2015, '주거용': df15['주거용'][8], '업무용': df15['Unnamed: 4'][8], '산업용': df15['Unnamed: 26'][8]}\n",
    "dgdf = dgdf.append(new_data, ignore_index=True)\n",
    "new_data = {'연도': 2016, '주거용': df16['주거용'][8], '업무용': df16['Unnamed: 4'][8], '산업용': df16['Unnamed: 26'][8]}\n",
    "dgdf = dgdf.append(new_data, ignore_index=True)\n",
    "new_data = {'연도': 2017, '주거용': df17['주거용'][8], '업무용': df17['Unnamed: 4'][8], '산업용': df17['Unnamed: 26'][8]}\n",
    "dgdf = dgdf.append(new_data, ignore_index=True)\n",
    "new_data = {'연도': 2018, '주거용': df18['주거용'][8], '업무용': df18['Unnamed: 4'][8], '산업용': df18['Unnamed: 26'][8]}\n",
    "dgdf = dgdf.append(new_data, ignore_index=True)\n",
    "new_data = {'연도': 2019, '주거용': df19['주거용'][8], '업무용': df19['Unnamed: 4'][8], '산업용': df19['Unnamed: 26'][8]}\n",
    "dgdf = dgdf.append(new_data, ignore_index=True)\n",
    "new_data = {'연도': 2020, '주거용': df20['주거용'][8], '업무용': df20['Unnamed: 4'][8], '산업용': df20['Unnamed: 33'][8]}\n",
    "dgdf = dgdf.append(new_data, ignore_index=True)\n",
    "new_data = {'연도': 2021, '주거용': df21['주거용'][8], '업무용': df21['Unnamed: 4'][8], '산업용': df21['Unnamed: 33'][8]}\n",
    "dgdf = dgdf.append(new_data, ignore_index=True)\n",
    "new_data = {'연도': 2022, '주거용': df22['Unnamed: 3'][2], '업무용': df22['Unnamed: 3'].iloc[3:5].astype(float).sum(),\n",
    "            '산업용': df22['Unnamed: 3'].iloc[4:7].astype(float).sum()}\n",
    "dgdf = dgdf.append(new_data, ignore_index=True)\n",
    "dgdf['연도'] = dgdf['연도'].astype(int)\n",
    "dgdf['주거용'] = dgdf['주거용'].astype(float)\n",
    "dgdf['업무용'] = dgdf['업무용'].astype(float)\n",
    "dgdf['산업용'] = dgdf['산업용'].astype(float)"
   ]
  },
  {
   "cell_type": "code",
   "execution_count": 4,
   "id": "3263c156-89a2-4092-8c14-4ab122ac66fe",
   "metadata": {
    "tags": []
   },
   "outputs": [],
   "source": [
    "gbdf['최대 사용분야'] = np.nan\n",
    "gbdf['최대 사용분야의 비율(%)'] = np.nan\n",
    "gjdf['최대 사용분야'] = np.nan\n",
    "gjdf['최대 사용분야의 비율(%)'] = np.nan\n",
    "dgdf['최대 사용분야'] = np.nan\n",
    "dgdf['최대 사용분야의 비율(%)'] = np.nan"
   ]
  },
  {
   "cell_type": "code",
   "execution_count": 6,
   "id": "bb82e868-ab27-4678-8e18-705c668385cd",
   "metadata": {
    "tags": []
   },
   "outputs": [],
   "source": [
    "gbdf['최대 사용분야'] = gbdf.iloc[:,1:4].idxmax(axis=1)\n",
    "gbdf['최대 사용분야의 비율(%)'] = gbdf.iloc[:,1:4].max(axis=1) / gbdf.iloc[:,1:4].sum(axis=1) * 100\n",
    "gjdf['최대 사용분야'] = gjdf.iloc[:,1:4].idxmax(axis=1)\n",
    "gjdf['최대 사용분야의 비율(%)'] = gjdf.iloc[:,1:4].max(axis=1) / gjdf.iloc[:,1:4].sum(axis=1) * 100\n",
    "dgdf['최대 사용분야'] = dgdf.iloc[:,1:4].idxmax(axis=1)\n",
    "dgdf['최대 사용분야의 비율(%)'] = dgdf.iloc[:,1:4].max(axis=1) / dgdf.iloc[:,1:4].sum(axis=1) * 100"
   ]
  },
  {
   "cell_type": "code",
   "execution_count": null,
   "id": "02e88dab-187f-4624-9933-97204dee07b5",
   "metadata": {
    "tags": []
   },
   "outputs": [],
   "source": [
    "fig, ax = plt.subplots(2,2,figsize=(16,14))\n",
    "\n",
    "num = np.arange(8)\n",
    "x_label = gbdf.연도\n",
    "\n",
    "ax[0, 0].set_title('경북의 연도별, 용도별 전기사용량(MWh)')\n",
    "ax[0, 0].set_xlabel('연도')\n",
    "ax[0, 0].set_ylabel('사용량')\n",
    "\n",
    "x_datas_1_1 = gbdf.주거용\n",
    "x_datas_2_1 = gbdf.업무용\n",
    "x_datas_3_1 = gbdf.산업용\n",
    "\n",
    "ax[0, 0].plot(x_label, x_datas_1_1, label='주거용')\n",
    "ax[0, 0].plot(x_label, x_datas_2_1, label='업무용')\n",
    "ax[0, 0].plot(x_label, x_datas_3_1, label='산업용')\n",
    "ax[0, 0].set_ylim(0,40000000)\n",
    "ax[0, 0].legend(ncol=8, loc='upper left')\n",
    "\n",
    "ax[0, 1].set_title('광주의 연도별, 용도별 전기사용량(MWh)')\n",
    "ax[0, 1].set_xlabel('연도')\n",
    "ax[0, 1].set_ylabel('사용량')\n",
    "\n",
    "x_datas_1_2 = gjdf.주거용\n",
    "x_datas_2_2 = gjdf.업무용\n",
    "x_datas_3_2 = gjdf.산업용\n",
    "\n",
    "ax[0, 1].plot(x_label, x_datas_1_2, label='주거용')\n",
    "ax[0, 1].plot(x_label, x_datas_2_2, label='업무용')\n",
    "ax[0, 1].plot(x_label, x_datas_3_2, label='산업용')\n",
    "ax[0, 1].set_ylim(0,5000000)\n",
    "ax[0, 1].legend(ncol=8, loc='upper left')\n",
    "\n",
    "ax[1, 0].set_title('대구의 연도별, 용도별 전기사용량(MWh)')\n",
    "ax[1, 0].set_xlabel('연도')\n",
    "ax[1, 0].set_ylabel('사용량')\n",
    "8000000\n",
    "x_datas_1_3 = dgdf.주거용\n",
    "x_datas_2_3 = dgdf.업무용\n",
    "x_datas_3_3 = dgdf.산업용\n",
    "\n",
    "ax[1, 0].plot(x_label, x_datas_1_3, label='주거용')\n",
    "ax[1, 0].plot(x_label, x_datas_2_3, label='업무용')\n",
    "ax[1, 0].plot(x_label, x_datas_3_3, label='산업용')\n",
    "ax[1, 0].set_ylim(0,8000000)\n",
    "ax[1, 0].legend(ncol=8, loc='upper left')\n",
    "\n",
    "ax[1,1].remove()\n",
    "\n",
    "plt.show()"
   ]
  }
 ],
 "metadata": {
  "kernelspec": {
   "display_name": "Python 3 (ipykernel)",
   "language": "python",
   "name": "python3"
  },
  "language_info": {
   "codemirror_mode": {
    "name": "ipython",
    "version": 3
   },
   "file_extension": ".py",
   "mimetype": "text/x-python",
   "name": "python",
   "nbconvert_exporter": "python",
   "pygments_lexer": "ipython3",
   "version": "3.11.4"
  }
 },
 "nbformat": 4,
 "nbformat_minor": 5
}
